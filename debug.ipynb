{
 "cells": [
  {
   "cell_type": "code",
   "execution_count": 11,
   "metadata": {},
   "outputs": [
    {
     "name": "stdout",
     "output_type": "stream",
     "text": [
      "PyTorch: 2.5.1+cu121\n",
      "Device: cuda\n"
     ]
    }
   ],
   "source": [
    "# %% [markdown]\n",
    "# Smoke test: dataset -> model -> forward pass (radar-only)\n",
    "\n",
    "# %%\n",
    "import os, sys, math, random, time\n",
    "import torch\n",
    "import torch.nn.functional as F\n",
    "import matplotlib.pyplot as plt\n",
    "\n",
    "print(\"PyTorch:\", torch.__version__)\n",
    "device = torch.device(\"cuda\" if torch.cuda.is_available() else \"cpu\")\n",
    "print(\"Device:\", device)\n"
   ]
  },
  {
   "cell_type": "code",
   "execution_count": 12,
   "metadata": {},
   "outputs": [],
   "source": [
    "# %%\n",
    "from core.options import Options\n",
    "\n",
    "opt = Options()  # use your dataclass defaults\n",
    "\n",
    "# --- make sure key knobs are aligned with your dataset & decoder ---\n",
    "opt.plucker_ray = True              # if your dataset concatenates Plücker rays\n",
    "opt.num_input_views = 4\n",
    "opt.input_size = 448\n",
    "opt.patch_size = 45             # 先不改（你说“先不动了”）\n",
    "opt.upsampler_type = 'none'         # 先按默认 none\n",
    "\n",
    "# dataset loader threads (Notebook 调小更稳)\n",
    "opt.num_workers = 0\n",
    "opt.batch_size = 4                 # smoke test => 1\n",
    "\n",
    "# radar GT ranges (match your ground-truth)\n",
    "opt.radar_xy_range = 50.0\n",
    "opt.radar_z_value  = 1.0\n",
    "opt.radar_min_pts  = 500\n",
    "opt.radar_max_pts  = 2500\n",
    "opt.radar_num_points = 1300         # 固定点数，方便 batch\n",
    "opt.radar_rcs_low  = -50.0\n",
    "opt.radar_rcs_high =  50.0\n",
    "opt.radar_vmax     =  50.0\n",
    "\n",
    "\n",
    "# training flags that are no longer relevant to rendering losses\n",
    "opt.lambda_lpips = 0.0              # 关掉 LPIPS 以避免加载不必要的网络\n"
   ]
  },
  {
   "cell_type": "code",
   "execution_count": 13,
   "metadata": {},
   "outputs": [
    {
     "name": "stdout",
     "output_type": "stream",
     "text": [
      "Dataset length: 82574\n"
     ]
    },
    {
     "name": "stdout",
     "output_type": "stream",
     "text": [
      "Top-level keys: ['mode', 'input', 'radar_gt']\n",
      "input keys: ['images']\n",
      "radar_gt keys: ['points', 'rcs', 'vrel']\n",
      "images: (4, 4, 9, 448, 448) torch.float32\n",
      "radar points: (4, 1300, 3) torch.float32\n",
      "radar rcs: (4, 1300, 1) torch.float32\n",
      "radar vrel: (4, 1300, 3) torch.float32\n"
     ]
    }
   ],
   "source": [
    "# %%\n",
    "from core.provider_ikun2 import ObjaverseDataset2\n",
    "from torch.utils.data import DataLoader\n",
    "\n",
    "ds = ObjaverseDataset2(opt=opt, training=True)\n",
    "print(\"Dataset length:\", len(ds))\n",
    "\n",
    "loader = DataLoader(\n",
    "    ds,\n",
    "    batch_size=opt.batch_size,\n",
    "    shuffle=False,\n",
    "    num_workers=opt.num_workers,\n",
    "    pin_memory=True,\n",
    "    drop_last=False,\n",
    "    # 如果你以后改成变长点数，可加自定义 collate_fn 做 padding\n",
    "    # collate_fn=collate_radar,\n",
    ")\n",
    "\n",
    "sample = next(iter(loader))\n",
    "print(\"Top-level keys:\", list(sample.keys()))\n",
    "print(\"input keys:\", list(sample['input'].keys()))\n",
    "print(\"radar_gt keys:\", list(sample['radar_gt'].keys()))\n",
    "\n",
    "x = sample['input']['images']\n",
    "pts = sample['radar_gt']['points']\n",
    "rcs = sample['radar_gt']['rcs']\n",
    "vrel = sample['radar_gt']['vrel']\n",
    "\n",
    "print(\"images:\", tuple(x.shape), x.dtype)\n",
    "print(\"radar points:\", tuple(pts.shape), pts.dtype)\n",
    "print(\"radar rcs:\", tuple(rcs.shape), rcs.dtype)\n",
    "print(\"radar vrel:\", tuple(vrel.shape), vrel.dtype)\n"
   ]
  },
  {
   "cell_type": "code",
   "execution_count": 14,
   "metadata": {},
   "outputs": [
    {
     "name": "stdout",
     "output_type": "stream",
     "text": [
      "Model ok.\n"
     ]
    }
   ],
   "source": [
    "# %%\n",
    "from core.mvgamba_models2 import MVGamba2\n",
    "\n",
    "model = MVGamba2(opt).to(device)\n",
    "model.train()  # or eval(); here we just want forward to work\n",
    "print(\"Model ok.\")\n"
   ]
  },
  {
   "cell_type": "code",
   "execution_count": 15,
   "metadata": {},
   "outputs": [
    {
     "name": "stdout",
     "output_type": "stream",
     "text": [
      "Output keys: ['loss', 'loss_cd', 'loss_rcs', 'loss_vrel', 'psnr', 'pred_points']\n",
      "loss: 44.556053\n",
      "loss_cd: 39.656807\n",
      "loss_rcs: 22.186756\n",
      "loss_vrel: 26.805719\n",
      "psnr: 0.000000\n",
      "pred_points: (4, 1296, 3)\n"
     ]
    }
   ],
   "source": [
    "# %%\n",
    "# move batch to device\n",
    "def to_device(batch, device):\n",
    "    out = {}\n",
    "    for k, v in batch.items():\n",
    "        if isinstance(v, dict):\n",
    "            out[k] = to_device(v, device)\n",
    "        elif torch.is_tensor(v):\n",
    "            out[k] = v.to(device)\n",
    "        else:\n",
    "            out[k] = v\n",
    "    return out\n",
    "\n",
    "batch = to_device(sample, device)\n",
    "\n",
    "with torch.no_grad():\n",
    "    out = model(batch, epoch=0, step_ratio=0.0, vis=1)\n",
    "\n",
    "print(\"Output keys:\", list(out.keys()))\n",
    "for k in ['loss','loss_cd','loss_rcs','loss_vrel','psnr']:\n",
    "    if k in out:\n",
    "        print(f\"{k}: {float(out[k]):.6f}\")\n",
    "\n",
    "if 'pred_points' in out:\n",
    "    print(\"pred_points:\", tuple(out['pred_points'].shape))\n",
    "else:\n",
    "    print(\"No 'pred_points' returned (set vis=1 in forward to get it).\")\n"
   ]
  }
 ],
 "metadata": {
  "kernelspec": {
   "display_name": "gamba",
   "language": "python",
   "name": "python3"
  },
  "language_info": {
   "codemirror_mode": {
    "name": "ipython",
    "version": 3
   },
   "file_extension": ".py",
   "mimetype": "text/x-python",
   "name": "python",
   "nbconvert_exporter": "python",
   "pygments_lexer": "ipython3",
   "version": "3.10.18"
  }
 },
 "nbformat": 4,
 "nbformat_minor": 2
}
